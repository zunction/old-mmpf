{
 "cells": [
  {
   "cell_type": "markdown",
   "metadata": {},
   "source": [
    "## MPF training\n",
    "\n",
    "Below is my test code to use MPF training for a fully-connected Boltzmann machine with 32 units with no GPU consideration."
   ]
  },
  {
   "cell_type": "code",
   "execution_count": 1,
   "metadata": {
    "collapsed": true
   },
   "outputs": [],
   "source": [
    "import numpy as np\n",
    "import theano\n",
    "import theano.tensor as T\n",
    "import matplotlib.pyplot as plt\n",
    "\n",
    "import os\n",
    "import timeit"
   ]
  },
  {
   "cell_type": "code",
   "execution_count": 2,
   "metadata": {
    "collapsed": true
   },
   "outputs": [],
   "source": [
    "def load_data(dataset = '32-50K.npy', borrow = True):\n",
    "    \"\"\"\n",
    "    Loads the dataset.\n",
    "    \"\"\"\n",
    "\n",
    "    data = np.load(dataset)\n",
    "    dataset = theano.shared(np.asarray(data, dtype = theano.config.floatX), borrow = borrow)\n",
    "\n",
    "    return dataset"
   ]
  },
  {
   "cell_type": "code",
   "execution_count": 3,
   "metadata": {
    "collapsed": true
   },
   "outputs": [],
   "source": [
    "class mpf(object):\n",
    "    \"\"\"\n",
    "    Minimum probability flow\n",
    "    \"\"\"\n",
    "    \n",
    "    def __init__(self, input = None, n = 16, temperature = 1,  W = None, b = None):\n",
    "        \n",
    "        self.n = n\n",
    "        self.temperature = temperature\n",
    "        U = np.random.rand(self.n, self.n)\n",
    "        R = 0.5 * (U + U.T)\n",
    "        np.fill_diagonal(R, 0)\n",
    "\n",
    "        if not W:\n",
    "            initial_W = np.asarray(R, dtype = theano.config.floatX)\n",
    "            W = theano.shared(initial_W, name = 'W', borrow = True)\n",
    "\n",
    "        if not b:\n",
    "            initial_b = np.asarray(np.random.rand(n), dtype = theano.config.floatX)\n",
    "            b = theano.shared(initial_b, name = 'b', borrow = True)\n",
    "\n",
    "\n",
    "        self.W = W\n",
    "        self.b = b\n",
    "        \n",
    "        if input is None:\n",
    "            self.x = T.dmatrix(name = 'input')\n",
    "        else:\n",
    "            self.x = input\n",
    "\n",
    "        self.params = [self.W, self.b]\n",
    "    \n",
    "#     def energy(): not sure if to have energy\n",
    "    \n",
    "    def cost(self, lr = 1e-2, epsilon = 1):\n",
    "        \"\"\"\n",
    "        Returns cost when using vanilla SGD.\n",
    "        \"\"\"\n",
    "        \n",
    "        print (50 * '=')\n",
    "        print (20 * '#' + 'MPF' + 20 * '#')\n",
    "        print (50 * '=')\n",
    "        print ('Input size: {0}'.format(self.n))\n",
    "#         print ('Optimizer: {0}'.format('vanilla'))\n",
    "        print ('Learning temperature: {0}'.format(self.temperature))\n",
    "        print ('Learning rate: {0}'.format(lr))\n",
    "#         print (50 * '=')\n",
    "        \n",
    "#         cost =  epsilon * T.mean(T.exp((0.5 - self.x) * (T.dot(self.x, T.fill_diagonal(self.W, 0)) + self.b)))\n",
    "        cost =  epsilon * T.exp((0.5 - self.x) * (T.dot(self.x, T.fill_diagonal(self.W, 0)) + self.b) / self.temperature)\n",
    "        gparams = T.grad(cost, self.params)\n",
    "\n",
    "        updates = [(param, param - learning_rate * gparam) \\\n",
    "        for param, gparam in zip(self.params, gparams)]\n",
    "\n",
    "        return cost, updates"
   ]
  },
  {
   "cell_type": "code",
   "execution_count": null,
   "metadata": {
    "collapsed": true
   },
   "outputs": [],
   "source": [
    "def trainmpf(units = 32, lr = 1e-3, epsilon = 1, n_epochs = 1000,\n",
    "             batchsize = 16, temperature = 1, sample = '32-50.npy'):\n",
    "    \"\"\"\n",
    "    Trains parameters using MPF.\n",
    "    \"\"\"\n",
    "    \n",
    "    index = T.lscalar()\n",
    "    x = T.matrix('x')\n",
    "    flow = mpf(input = x, n = units, temperature = temperature)\n",
    "    \n",
    "    dataset = load_data(sample)\n",
    "    print ('Sample used: {0}'.format(sample))\n",
    "    print ('=' * 50)\n",
    "    \n",
    "    mpf_cost = theano.function(inputs = [index], outputs = cost, updates = updates, \\\n",
    "                                givens = {x: dataset[index * batch_size: (index + 1) * batch_size]})\n",
    "    \n",
    "    for epoch in range(n_epochs):\n",
    "        c = []\n",
    "        current_time = timeit.default_timer()\n",
    "        for batch_index in range(n_dataset_batches):\n",
    "            c.append(mpf_cost(batch_index))\n"
   ]
  },
  {
   "cell_type": "code",
   "execution_count": null,
   "metadata": {
    "collapsed": true
   },
   "outputs": [],
   "source": []
  },
  {
   "cell_type": "code",
   "execution_count": null,
   "metadata": {
    "collapsed": true
   },
   "outputs": [],
   "source": []
  },
  {
   "cell_type": "code",
   "execution_count": null,
   "metadata": {
    "collapsed": true
   },
   "outputs": [],
   "source": []
  },
  {
   "cell_type": "code",
   "execution_count": null,
   "metadata": {
    "collapsed": true
   },
   "outputs": [],
   "source": []
  },
  {
   "cell_type": "code",
   "execution_count": null,
   "metadata": {
    "collapsed": true
   },
   "outputs": [],
   "source": []
  }
 ],
 "metadata": {
  "kernelspec": {
   "display_name": "Python 3",
   "language": "python",
   "name": "python3"
  },
  "language_info": {
   "codemirror_mode": {
    "name": "ipython",
    "version": 3
   },
   "file_extension": ".py",
   "mimetype": "text/x-python",
   "name": "python",
   "nbconvert_exporter": "python",
   "pygments_lexer": "ipython3",
   "version": "3.5.2"
  }
 },
 "nbformat": 4,
 "nbformat_minor": 0
}
