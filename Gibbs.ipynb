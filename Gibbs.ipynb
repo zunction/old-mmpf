{
 "cells": [
  {
   "cell_type": "code",
   "execution_count": null,
   "metadata": {
    "collapsed": true
   },
   "outputs": [],
   "source": [
    "import numpy as np\n",
    "import matplotlib.pyplot as plt\n",
    "import timeit\n",
    "import time\n",
    "import os\n",
    "\n",
    "from pathlib import Path\n"
   ]
  },
  {
   "cell_type": "code",
   "execution_count": null,
   "metadata": {
    "collapsed": true
   },
   "outputs": [],
   "source": [
    "def getseed(n = 16, randstate = 123):\n",
    "    \"\"\"\n",
    "    Generates the seed for the Gibbs sampler.\n",
    "    Inputs:\n",
    "    - n: (int) number of neurons in the network\n",
    "    \"\"\"\n",
    "    prng = np.random.RandomState(randstate)\n",
    "    return np.random.randint(2, size = n)\n",
    "\n",
    "def getW(n = 16, randstate = 123):\n",
    "    \"\"\"\n",
    "    Generates the matrix to learn using MPF.\n",
    "    Inputs:\n",
    "    - n: (int) number of neurons in the network\n",
    "    - index: if None, will be labeled by YearMonthDay-HourMinute\n",
    "    \"\"\"\n",
    "    prng = np.random.RandomState(randstate)\n",
    "    U = prng.normal(0, 1, (n, n))\n",
    "    W = 0.5 * (U + U.T)\n",
    "    np.fill_diagonal(W, 0)\n",
    "\n",
    "    filename = str(n) + '-' + 'W'\n",
    "    myfile = Path(filename + '.npy')\n",
    "\n",
    "    if myfile.is_file():\n",
    "        print (filename + '.npy' + ' exists')\n",
    "    else:\n",
    "        np.save(filename, W)\n",
    "        print ('W matrix saved as ' + filename + '.npy')  \n",
    "    return W\n",
    "\n",
    "\n",
    "def getb(n = 16, randstate = 123):\n",
    "    \"\"\"\n",
    "    Generates the bias to learn using MPF.\n",
    "    Inputs:\n",
    "    - n: (int) number of neurons in the network\n",
    "    - index: if None, will be labeled by YearMonthDay-HourMinute\n",
    "    \"\"\"\n",
    "    prng = np.random.RandomState(randstate)\n",
    "    b = prng.normal(0, 1, (n, ))\n",
    "\n",
    "\n",
    "    filename = str(n) + '-' + 'b'\n",
    "    myfile = Path(filename + '.npy')\n",
    "\n",
    "    if myfile.is_file():\n",
    "        print (filename + '.npy' + ' exists.')\n",
    "    else:\n",
    "        np.save(filename, b)\n",
    "        print ('b bias saved as ' + filename + '.npy')\n",
    "    return b\n"
   ]
  },
  {
   "cell_type": "code",
   "execution_count": null,
   "metadata": {
    "collapsed": true
   },
   "outputs": [],
   "source": [
    "def sigmoid(x):\n",
    "    \"\"\"\n",
    "    Takes in a vector x and returns its sigmoid activation.\n",
    "    Input:\n",
    "    - x: a numpy array\n",
    "    \"\"\"\n",
    "    return 1/(1 + np.exp(-x))\n",
    "\n",
    "\n",
    "def one_state_update(x, W, b, s):\n",
    "    \"\"\"\n",
    "    Does a single update of the sth neuron of the network.\n",
    "    Inputs:\n",
    "    - x: current state of the network to produce a new state\n",
    "    - W: numpy array of weights\n",
    "    - b: numpy array of biases\n",
    "    \"\"\"\n",
    "    p = sigmoid(np.dot(W[s, :], x) + b)\n",
    "    new_x = np.zeros(x.shape) + x\n",
    "    new_x[s] = np.random.binomial(1, p[s], 1)\n",
    "    return new_x\n",
    "\n",
    "\n",
    "def burn_in(x, W, b, n = 10000):\n",
    "    \"\"\"\n",
    "    Performs the burning in before doing the Gibbs sampling.\n",
    "    \"\"\"\n",
    "    v = x.shape[0]\n",
    "    for i in range(n * v):\n",
    "        s = np.random.randint(0, v)\n",
    "        x = one_state_update(x, W, b, s)\n",
    "    return x\n",
    "\n",
    "\n",
    "def n_updates(x, W, b, n = 100):\n",
    "    \"\"\"\n",
    "    Performs n times of the one_state_update.\n",
    "    Inputs:\n",
    "    - x: current state of the network to produce a new state\n",
    "    - W: numpy array of weights\n",
    "    - b: numpy array of biases\n",
    "    - n: (int) number of updates to be made\n",
    "    \"\"\"\n",
    "    v = x.shape[0]\n",
    "    for i in range(n):\n",
    "        s = np.random.randint(0, v)\n",
    "        x = one_state_update(x, W, b, s)\n",
    "    return x\n",
    "\n",
    "\n",
    "def mixing(x, W, b, n = 50000, m = 100):\n",
    "    \"\"\"\n",
    "    Does mixing for m times before obtaining a single sample.\n",
    "    Inputs:\n",
    "    - x: current state of the network to produce a new state\n",
    "    - W: numpy array of weights\n",
    "    - b: numpy array of biases\n",
    "    - n: (int) number of samples to be generated\n",
    "    - m: (int) number of updates before a sample is saved\n",
    "    \"\"\"\n",
    "    samples = np.zeros((n, x.shape[0]))\n",
    "    one = n // 100\n",
    "    p = 1\n",
    "    for i in range(n):\n",
    "        # if i % one == 0:\n",
    "        #     print ('%d %%' % p)\n",
    "        #     p += 1\n",
    "        x = n_updates(x, W, b, m)\n",
    "        samples[i, :] = x\n",
    "#     timestr = time.strftime('%Y%m%d-%H%M%S')\n",
    "#     filename = 'sample'+timestr+'.dat'\n",
    "\n",
    "#     if savesamples == \"True\":\n",
    "#         np.save(filename, samples)\n",
    "#         print ('Samples are saved as ' + filename)\n",
    "#     elif savesamples == \"False\":\n",
    "#         print ('Samples were not saved.')\n",
    "#     else:\n",
    "#         raise ValueError(\"savesamples must be 'True' or 'False'\")\n",
    "    return samples\n",
    "\n",
    "\n",
    "def sampling(units = 16, n = 50000, m = 100, randstate = 123):\n",
    "    \"\"\"\n",
    "    Generate n samples from seed x.\n",
    "    Input:\n",
    "    - units: (int) number of units in the Boltzmann machine\n",
    "    - x: current state of the network to produce a new state\n",
    "    - W: numpy array of weights\n",
    "    - b: numpy array of biases\n",
    "    - n: (int) number of samples to be generated\n",
    "    - m: (int) number of updates before a sample is saved\n",
    "    - savesamples: (bool)\n",
    "    \"\"\"\n",
    "    K = n // 1000\n",
    "    filename = str(units) + '-' + str(K) + 'K'\n",
    "    myfile = Path(filename + '.npy')\n",
    "\n",
    "    if myfile.is_file():\n",
    "        print (filename + '.npy' + ' exists.')\n",
    "    else:\n",
    "        tic = timeit.default_timer()\n",
    "\n",
    "        print ('Generating %dK samples with %d units...' % (K, units))\n",
    "\n",
    "        x = getseed(n = units, randstate = randstate)\n",
    "        W = getW(n = units, randstate = randstate)\n",
    "        b = getb(n = units, randstate = randstate)\n",
    "#         use the below for setting bias to be zeros  \n",
    "#         b = np.zeros(units,)\n",
    "#         np.save('32-b_zeros', b)\n",
    "\n",
    "        print ('Burning in...')\n",
    "        burnt = burn_in(x, W, b)\n",
    "        print ('Burnt:', burnt)\n",
    "        print ('Mixing...')\n",
    "        samples = mixing(burnt, W, b, n, m)\n",
    "        \n",
    "        np.save(filename, samples)\n",
    "        print ('samples saved as ' + filename + '.npy')\n",
    "        \n",
    "        toc = timeit.default_timer()\n",
    "        print ('Time taken to create %d samples is %.2f minutes' % (n, (toc - tic)/60.))\n",
    "        return samples\n"
   ]
  },
  {
   "cell_type": "code",
   "execution_count": null,
   "metadata": {
    "collapsed": false
   },
   "outputs": [],
   "source": [
    "sampling(units = 32, n = 50000, m = 100, randstate = 123)"
   ]
  },
  {
   "cell_type": "code",
   "execution_count": 3,
   "metadata": {
    "collapsed": false
   },
   "outputs": [
    {
     "name": "stdout",
     "output_type": "stream",
     "text": [
      "Generating 2000000K samples with 32 units...\n",
      "32-W.npy exists\n",
      "32-b.npy exists.\n",
      "Burning in...\n",
      "Burnt: [ 1.  1.  0.  0.  0.  1.  0.  1.  1.  0.  0.  1.  1.  0.  1.  1.  1.  1.\n",
      "  0.  0.  1.  1.  0.  1.  0.  0.  0.  0.  0.  0.  0.  0.]\n",
      "Mixing...\n"
     ]
    },
    {
     "name": "stderr",
     "output_type": "stream",
     "text": [
      "C:\\users\\zlai\\documents\\repos\\mmpf\\mgibbs.py:121: VisibleDeprecationWarning: using a non-integer number instead of an integer will result in an error in the future\n",
      "  samples = np.zeros((n, x.shape[0]))\n"
     ]
    },
    {
     "ename": "MemoryError",
     "evalue": "",
     "output_type": "error",
     "traceback": [
      "\u001b[0;31m---------------------------------------------------------------------------\u001b[0m",
      "\u001b[0;31mMemoryError\u001b[0m                               Traceback (most recent call last)",
      "\u001b[0;32mC:\\users\\zlai\\documents\\repos\\mmpf\\mgibbs.py\u001b[0m in \u001b[0;36m<module>\u001b[0;34m()\u001b[0m\n\u001b[1;32m    186\u001b[0m \u001b[1;33m\u001b[0m\u001b[0m\n\u001b[1;32m    187\u001b[0m \u001b[1;32mif\u001b[0m \u001b[0m__name__\u001b[0m \u001b[1;33m==\u001b[0m \u001b[1;34m'__main__'\u001b[0m\u001b[1;33m:\u001b[0m\u001b[1;33m\u001b[0m\u001b[0m\n\u001b[0;32m--> 188\u001b[0;31m     \u001b[0msampling\u001b[0m\u001b[1;33m(\u001b[0m\u001b[0munits\u001b[0m \u001b[1;33m=\u001b[0m \u001b[1;36m32\u001b[0m\u001b[1;33m,\u001b[0m \u001b[0mn\u001b[0m \u001b[1;33m=\u001b[0m \u001b[1;36m2e9\u001b[0m\u001b[1;33m,\u001b[0m \u001b[0mm\u001b[0m \u001b[1;33m=\u001b[0m \u001b[1;36m100\u001b[0m\u001b[1;33m,\u001b[0m \u001b[0mrandstate\u001b[0m \u001b[1;33m=\u001b[0m \u001b[1;36m123\u001b[0m\u001b[1;33m)\u001b[0m\u001b[1;33m\u001b[0m\u001b[0m\n\u001b[0m",
      "\u001b[0;32mC:\\users\\zlai\\documents\\repos\\mmpf\\mgibbs.py\u001b[0m in \u001b[0;36msampling\u001b[0;34m(units, n, m, randstate)\u001b[0m\n\u001b[1;32m    175\u001b[0m         \u001b[0mprint\u001b[0m \u001b[1;33m(\u001b[0m\u001b[1;34m'Burnt:'\u001b[0m\u001b[1;33m,\u001b[0m \u001b[0mburnt\u001b[0m\u001b[1;33m)\u001b[0m\u001b[1;33m\u001b[0m\u001b[0m\n\u001b[1;32m    176\u001b[0m         \u001b[0mprint\u001b[0m \u001b[1;33m(\u001b[0m\u001b[1;34m'Mixing...'\u001b[0m\u001b[1;33m)\u001b[0m\u001b[1;33m\u001b[0m\u001b[0m\n\u001b[0;32m--> 177\u001b[0;31m         \u001b[0msamples\u001b[0m \u001b[1;33m=\u001b[0m \u001b[0mmixing\u001b[0m\u001b[1;33m(\u001b[0m\u001b[0mburnt\u001b[0m\u001b[1;33m,\u001b[0m \u001b[0mW\u001b[0m\u001b[1;33m,\u001b[0m \u001b[0mb\u001b[0m\u001b[1;33m,\u001b[0m \u001b[0mn\u001b[0m\u001b[1;33m,\u001b[0m \u001b[0mm\u001b[0m\u001b[1;33m)\u001b[0m\u001b[1;33m\u001b[0m\u001b[0m\n\u001b[0m\u001b[1;32m    178\u001b[0m \u001b[1;33m\u001b[0m\u001b[0m\n\u001b[1;32m    179\u001b[0m         \u001b[0mnp\u001b[0m\u001b[1;33m.\u001b[0m\u001b[0msave\u001b[0m\u001b[1;33m(\u001b[0m\u001b[0mfilename\u001b[0m\u001b[1;33m,\u001b[0m \u001b[0msamples\u001b[0m\u001b[1;33m)\u001b[0m\u001b[1;33m\u001b[0m\u001b[0m\n",
      "\u001b[0;32mC:\\users\\zlai\\documents\\repos\\mmpf\\mgibbs.py\u001b[0m in \u001b[0;36mmixing\u001b[0;34m(x, W, b, n, m)\u001b[0m\n\u001b[1;32m    119\u001b[0m     \u001b[1;33m-\u001b[0m \u001b[0mm\u001b[0m\u001b[1;33m:\u001b[0m \u001b[1;33m(\u001b[0m\u001b[0mint\u001b[0m\u001b[1;33m)\u001b[0m \u001b[0mnumber\u001b[0m \u001b[0mof\u001b[0m \u001b[0mupdates\u001b[0m \u001b[0mbefore\u001b[0m \u001b[0ma\u001b[0m \u001b[0msample\u001b[0m \u001b[1;32mis\u001b[0m \u001b[0msaved\u001b[0m\u001b[1;33m\u001b[0m\u001b[0m\n\u001b[1;32m    120\u001b[0m     \"\"\"\n\u001b[0;32m--> 121\u001b[0;31m     \u001b[0msamples\u001b[0m \u001b[1;33m=\u001b[0m \u001b[0mnp\u001b[0m\u001b[1;33m.\u001b[0m\u001b[0mzeros\u001b[0m\u001b[1;33m(\u001b[0m\u001b[1;33m(\u001b[0m\u001b[0mn\u001b[0m\u001b[1;33m,\u001b[0m \u001b[0mx\u001b[0m\u001b[1;33m.\u001b[0m\u001b[0mshape\u001b[0m\u001b[1;33m[\u001b[0m\u001b[1;36m0\u001b[0m\u001b[1;33m]\u001b[0m\u001b[1;33m)\u001b[0m\u001b[1;33m)\u001b[0m\u001b[1;33m\u001b[0m\u001b[0m\n\u001b[0m\u001b[1;32m    122\u001b[0m     \u001b[0mone\u001b[0m \u001b[1;33m=\u001b[0m \u001b[0mn\u001b[0m \u001b[1;33m//\u001b[0m \u001b[1;36m100\u001b[0m\u001b[1;33m\u001b[0m\u001b[0m\n\u001b[1;32m    123\u001b[0m     \u001b[0mp\u001b[0m \u001b[1;33m=\u001b[0m \u001b[1;36m1\u001b[0m\u001b[1;33m\u001b[0m\u001b[0m\n",
      "\u001b[0;31mMemoryError\u001b[0m: "
     ]
    }
   ],
   "source": [
    "run mgibbs.py"
   ]
  },
  {
   "cell_type": "code",
   "execution_count": null,
   "metadata": {
    "collapsed": true
   },
   "outputs": [],
   "source": []
  }
 ],
 "metadata": {
  "kernelspec": {
   "display_name": "Python 3",
   "language": "python",
   "name": "python3"
  },
  "language_info": {
   "codemirror_mode": {
    "name": "ipython",
    "version": 3
   },
   "file_extension": ".py",
   "mimetype": "text/x-python",
   "name": "python",
   "nbconvert_exporter": "python",
   "pygments_lexer": "ipython3",
   "version": "3.5.2"
  }
 },
 "nbformat": 4,
 "nbformat_minor": 0
}
