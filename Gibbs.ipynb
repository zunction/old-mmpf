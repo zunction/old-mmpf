{
 "cells": [
  {
   "cell_type": "code",
   "execution_count": 1,
   "metadata": {
    "collapsed": true
   },
   "outputs": [],
   "source": [
    "import numpy as np\n",
    "import matplotlib.pyplot as plt\n",
    "import timeit\n",
    "import time\n",
    "import os\n",
    "\n",
    "from pathlib import Path\n"
   ]
  },
  {
   "cell_type": "code",
   "execution_count": 2,
   "metadata": {
    "collapsed": true
   },
   "outputs": [],
   "source": [
    "def getseed(n = 16, randstate = 123):\n",
    "    \"\"\"\n",
    "    Generates the seed for the Gibbs sampler.\n",
    "    Inputs:\n",
    "    - n: (int) number of neurons in the network\n",
    "    \"\"\"\n",
    "    prng = np.random.RandomState(randstate)\n",
    "    return np.random.randint(2, size = n)\n",
    "\n",
    "def getW(n = 16, randstate = 123):\n",
    "    \"\"\"\n",
    "    Generates the matrix to learn using MPF.\n",
    "    Inputs:\n",
    "    - n: (int) number of neurons in the network\n",
    "    - index: if None, will be labeled by YearMonthDay-HourMinute\n",
    "    \"\"\"\n",
    "    prng = np.random.RandomState(randstate)\n",
    "    U = prng.normal(0, 1, (n, n))\n",
    "    W = 0.5 * (U + U.T)\n",
    "#     np.fill_diagonal(W, 0)\n",
    "\n",
    "    filename = str(n) + '-' + 'W'\n",
    "    myfile = Path(filename + '.npy')\n",
    "\n",
    "    if myfile.is_file():\n",
    "        print (filename + '.npy' + ' exists')\n",
    "    else:\n",
    "        np.save(filename, W)\n",
    "        print ('W matrix saved as ' + filename + '.npy')  \n",
    "    return W\n",
    "\n",
    "\n",
    "def getb(n = 16, randstate = 123):\n",
    "    \"\"\"\n",
    "    Generates the bias to learn using MPF.\n",
    "    Inputs:\n",
    "    - n: (int) number of neurons in the network\n",
    "    - index: if None, will be labeled by YearMonthDay-HourMinute\n",
    "    \"\"\"\n",
    "    prng = np.random.RandomState(randstate)\n",
    "    b = prng.normal(0, 1, (n, ))\n",
    "\n",
    "\n",
    "    filename = str(n) + '-' + 'b'\n",
    "    myfile = Path(filename + '.npy')\n",
    "\n",
    "    if myfile.is_file():\n",
    "        print (filename + '.npy' + ' exists.')\n",
    "    else:\n",
    "        np.save(filename, b)\n",
    "        print ('b bias saved as ' + filename + '.npy')\n",
    "    return b\n"
   ]
  },
  {
   "cell_type": "code",
   "execution_count": 5,
   "metadata": {
    "collapsed": true
   },
   "outputs": [],
   "source": [
    "def sigmoid(x):\n",
    "    \"\"\"\n",
    "    Takes in a vector x and returns its sigmoid activation.\n",
    "    Input:\n",
    "    - x: a numpy array\n",
    "    \"\"\"\n",
    "    return 1/(1 + np.exp(-x))\n",
    "\n",
    "\n",
    "def one_state_update(x, W, b, s):\n",
    "    \"\"\"\n",
    "    Does a single update of the sth neuron of the network.\n",
    "    Inputs:\n",
    "    - x: current state of the network to produce a new state\n",
    "    - W: numpy array of weights\n",
    "    - b: numpy array of biases\n",
    "    \"\"\"\n",
    "    p = sigmoid(np.dot(W[s, :], x) + b)\n",
    "    new_x = np.zeros(x.shape) + x\n",
    "    new_x[s] = np.random.binomial(1, p[s], 1)\n",
    "    return new_x\n",
    "\n",
    "\n",
    "def burn_in(x, W, b, n = 10000):\n",
    "    \"\"\"\n",
    "    Performs the burning in before doing the Gibbs sampling.\n",
    "    \"\"\"\n",
    "    v = x.shape[0]\n",
    "    for i in range(n * v):\n",
    "        s = np.random.randint(0, v)\n",
    "        x = one_state_update(x, W, b, s)\n",
    "    return x\n",
    "\n",
    "\n",
    "def n_updates(x, W, b, n = 100):\n",
    "    \"\"\"\n",
    "    Performs n times of the one_state_update.\n",
    "    Inputs:\n",
    "    - x: current state of the network to produce a new state\n",
    "    - W: numpy array of weights\n",
    "    - b: numpy array of biases\n",
    "    - n: (int) number of updates to be made\n",
    "    \"\"\"\n",
    "    v = x.shape[0]\n",
    "    for i in range(n):\n",
    "        s = np.random.randint(0, v)\n",
    "        x = one_state_update(x, W, b, s)\n",
    "    return x\n",
    "\n",
    "\n",
    "def mixing(x, W, b, n = 50000, m = 100):\n",
    "    \"\"\"\n",
    "    Does mixing for m times before obtaining a single sample.\n",
    "    Inputs:\n",
    "    - x: current state of the network to produce a new state\n",
    "    - W: numpy array of weights\n",
    "    - b: numpy array of biases\n",
    "    - n: (int) number of samples to be generated\n",
    "    - m: (int) number of updates before a sample is saved\n",
    "    \"\"\"\n",
    "    samples = np.zeros((n, x.shape[0]))\n",
    "    one = n // 100\n",
    "    p = 1\n",
    "    for i in range(n):\n",
    "        # if i % one == 0:\n",
    "        #     print ('%d %%' % p)\n",
    "        #     p += 1\n",
    "        x = n_updates(x, W, b, m)\n",
    "        samples[i, :] = x\n",
    "#     timestr = time.strftime('%Y%m%d-%H%M%S')\n",
    "#     filename = 'sample'+timestr+'.dat'\n",
    "\n",
    "#     if savesamples == \"True\":\n",
    "#         np.save(filename, samples)\n",
    "#         print ('Samples are saved as ' + filename)\n",
    "#     elif savesamples == \"False\":\n",
    "#         print ('Samples were not saved.')\n",
    "#     else:\n",
    "#         raise ValueError(\"savesamples must be 'True' or 'False'\")\n",
    "    return samples\n",
    "\n",
    "\n",
    "def sampling(units = 16, n = 50000, m = 100, randstate = 123):\n",
    "    \"\"\"\n",
    "    Generate n samples from seed x.\n",
    "    Input:\n",
    "    - units: (int) number of units in the Boltzmann machine\n",
    "    - x: current state of the network to produce a new state\n",
    "    - W: numpy array of weights\n",
    "    - b: numpy array of biases\n",
    "    - n: (int) number of samples to be generated\n",
    "    - m: (int) number of updates before a sample is saved\n",
    "    - savesamples: (bool)\n",
    "    \"\"\"\n",
    "    K = n // 1000\n",
    "    filename = str(units) + '-' + str(K) + 'K'\n",
    "    myfile = Path(filename + '.npy')\n",
    "\n",
    "    if myfile.is_file():\n",
    "        print (filename + '.npy' + ' exists.')\n",
    "    else:\n",
    "        tic = timeit.default_timer()\n",
    "\n",
    "        print ('Generating %dK samples with %d units...' % (K, units))\n",
    "\n",
    "        x = getseed(n = units, randstate = randstate)\n",
    "        W = getW(n = units, randstate = randstate)\n",
    "        b = getb(n = units, randstate = randstate)\n",
    "#         use the below for setting bias to be zeros  \n",
    "#         b = np.zeros(units,)\n",
    "#         np.save('32-b_zeros', b)\n",
    "\n",
    "        print ('Burning in...')\n",
    "        burnt = burn_in(x, W, b)\n",
    "        print ('Burnt:', burnt)\n",
    "        print ('Mixing...')\n",
    "        samples = mixing(burnt, W, b, n, m)\n",
    "        \n",
    "        np.save(filename, samples)\n",
    "        print ('samples saved as ' + filename + '.npy')\n",
    "        \n",
    "        toc = timeit.default_timer()\n",
    "        print ('Time taken to create %d samples is %.2f minutes' % (n, (toc - tic)/60.))\n",
    "        return samples\n"
   ]
  },
  {
   "cell_type": "code",
   "execution_count": 4,
   "metadata": {
    "collapsed": false
   },
   "outputs": [
    {
     "name": "stdout",
     "output_type": "stream",
     "text": [
      "32-50K.npy exists.\n"
     ]
    }
   ],
   "source": [
    "sampling(units = 32, n = 50000, m = 100, randstate = 123)"
   ]
  },
  {
   "cell_type": "markdown",
   "metadata": {},
   "source": [
    "#### Forming of $W$ with biases taking the place of the originally zero diagonal"
   ]
  },
  {
   "cell_type": "code",
   "execution_count": 2,
   "metadata": {
    "collapsed": false
   },
   "outputs": [],
   "source": [
    "W = np.load('16-W.npy')\n",
    "b = np.load('16-b.npy')"
   ]
  },
  {
   "cell_type": "code",
   "execution_count": 3,
   "metadata": {
    "collapsed": false
   },
   "outputs": [
    {
     "name": "stdout",
     "output_type": "stream",
     "text": [
      "[[ 0.          1.60163776 -0.7442773  -0.26377935  0.4193494   1.45333696\n",
      "  -1.75562358 -0.58206479  0.87014178 -0.15509585 -0.32928508  0.10633762\n",
      "   0.84548587 -0.36705227  0.25630999 -0.07173844]\n",
      " [ 1.60163776  0.          0.15208833  1.31216487  0.77230256  0.40093152\n",
      "  -1.14965271  0.83853902 -0.9089023  -0.42491581  0.35657066 -1.01995302\n",
      "  -0.13309325 -0.29153569 -0.83717264 -1.25946322]\n",
      " [-0.7442773   0.15208833  0.         -0.7338605   0.024168    1.1745876\n",
      "  -0.25006787  0.64818319 -0.90134399 -0.6356993  -0.1284365   0.09109303\n",
      "   0.26780399  0.28385556  0.7634665   0.33144105]\n",
      " [-0.26377935  1.31216487 -0.7338605   0.          0.75531008  0.00462273\n",
      "  -0.1747466   0.67402841 -0.10466836  1.64971532  1.10005911  0.60468539\n",
      "  -2.00188186  0.68727622 -0.53020799 -1.15028665]\n",
      " [ 0.4193494   0.77230256  0.024168    0.75531008  0.         -0.05761704\n",
      "   0.5552469  -1.10105173  0.20288342 -0.66843591 -0.72872346  0.56659396\n",
      "  -0.33632976 -0.20045357 -1.03743497 -0.5850435 ]\n",
      " [ 1.45333696  0.40093152  1.1745876   0.00462273 -0.05761704  0.\n",
      "  -1.35517496 -0.7724992   1.20439997  0.15387448  0.1258913   0.09611861\n",
      "   0.0350922  -0.11911016 -0.10547743  0.35607873]\n",
      " [-1.75562358 -1.14965271 -0.25006787 -0.1747466   0.5552469  -1.35517496\n",
      "   0.          2.27885763  0.36816171  0.1439793   0.85160663 -0.23331139\n",
      "   0.04244246 -1.13725619 -1.01406007  0.93667879]\n",
      " [-0.58206479  0.83853902  0.64818319  0.67402841 -1.10105173 -0.7724992\n",
      "   2.27885763  0.          0.02384142 -0.13419136 -0.48713955  0.19463985\n",
      "   0.69537235  0.67098033  0.78310505 -0.82637665]\n",
      " [ 0.87014178 -0.9089023  -0.90134399 -0.10466836  0.20288342  1.20439997\n",
      "   0.36816171  0.02384142  0.          0.19704062  0.79904632 -0.45132112\n",
      "  -0.06006064  0.51313663  0.51024143 -0.56617562]\n",
      " [-0.15509585 -0.42491581 -0.6356993   1.64971532 -0.66843591  0.15387448\n",
      "   0.1439793  -0.13419136  0.19704062  0.         -0.64702582 -1.19455615\n",
      "  -0.02212458 -0.08052749  0.72302291  0.11013479]\n",
      " [-0.32928508  0.35657066 -0.1284365   1.10005911 -0.72872346  0.1258913\n",
      "   0.85160663 -0.48713955  0.79904632 -0.64702582  0.         -0.3120205\n",
      "   0.72994416 -0.3441935   0.36283135  1.66742848]\n",
      " [ 0.10633762 -1.01995302  0.09109303  0.60468539  0.56659396  0.09611861\n",
      "  -0.23331139  0.19463985 -0.45132112 -1.19455615 -0.3120205   0.\n",
      "   0.16673624  0.1976147  -0.1284871   0.40254537]\n",
      " [ 0.84548587 -0.13309325  0.26780399 -2.00188186 -0.33632976  0.0350922\n",
      "   0.04244246  0.69537235 -0.06006064 -0.02212458  0.72994416  0.16673624\n",
      "   0.         -0.73116549  0.47297871 -0.798879  ]\n",
      " [-0.36705227 -0.29153569  0.28385556  0.68727622 -0.20045357 -0.11911016\n",
      "  -1.13725619  0.67098033  0.51313663 -0.08052749 -0.3441935   0.1976147\n",
      "  -0.73116549  0.         -0.21977303 -1.02684617]\n",
      " [ 0.25630999 -0.83717264  0.7634665  -0.53020799 -1.03743497 -0.10547743\n",
      "  -1.01406007  0.78310505  0.51024143  0.72302291  0.36283135 -0.1284871\n",
      "   0.47297871 -0.21977303  0.          0.27178692]\n",
      " [-0.07173844 -1.25946322  0.33144105 -1.15028665 -0.5850435   0.35607873\n",
      "   0.93667879 -0.82637665 -0.56617562  0.11013479  1.66742848  0.40254537\n",
      "  -0.798879   -1.02684617  0.27178692  0.        ]]\n",
      "[-1.0856306   0.99734545  0.2829785  -1.50629471 -0.57860025  1.65143654\n",
      " -2.42667924 -0.42891263  1.26593626 -0.8667404  -0.67888615 -0.09470897\n",
      "  1.49138963 -0.638902   -0.44398196 -0.43435128]\n"
     ]
    }
   ],
   "source": [
    "print (W)\n",
    "print (b)"
   ]
  },
  {
   "cell_type": "code",
   "execution_count": 5,
   "metadata": {
    "collapsed": false
   },
   "outputs": [
    {
     "name": "stdout",
     "output_type": "stream",
     "text": [
      "[[-1.0856306   1.60163776 -0.7442773  -0.26377935  0.4193494   1.45333696\n",
      "  -1.75562358 -0.58206479  0.87014178 -0.15509585 -0.32928508  0.10633762\n",
      "   0.84548587 -0.36705227  0.25630999 -0.07173844]\n",
      " [ 1.60163776  0.99734545  0.15208833  1.31216487  0.77230256  0.40093152\n",
      "  -1.14965271  0.83853902 -0.9089023  -0.42491581  0.35657066 -1.01995302\n",
      "  -0.13309325 -0.29153569 -0.83717264 -1.25946322]\n",
      " [-0.7442773   0.15208833  0.2829785  -0.7338605   0.024168    1.1745876\n",
      "  -0.25006787  0.64818319 -0.90134399 -0.6356993  -0.1284365   0.09109303\n",
      "   0.26780399  0.28385556  0.7634665   0.33144105]\n",
      " [-0.26377935  1.31216487 -0.7338605  -1.50629471  0.75531008  0.00462273\n",
      "  -0.1747466   0.67402841 -0.10466836  1.64971532  1.10005911  0.60468539\n",
      "  -2.00188186  0.68727622 -0.53020799 -1.15028665]\n",
      " [ 0.4193494   0.77230256  0.024168    0.75531008 -0.57860025 -0.05761704\n",
      "   0.5552469  -1.10105173  0.20288342 -0.66843591 -0.72872346  0.56659396\n",
      "  -0.33632976 -0.20045357 -1.03743497 -0.5850435 ]\n",
      " [ 1.45333696  0.40093152  1.1745876   0.00462273 -0.05761704  1.65143654\n",
      "  -1.35517496 -0.7724992   1.20439997  0.15387448  0.1258913   0.09611861\n",
      "   0.0350922  -0.11911016 -0.10547743  0.35607873]\n",
      " [-1.75562358 -1.14965271 -0.25006787 -0.1747466   0.5552469  -1.35517496\n",
      "  -2.42667924  2.27885763  0.36816171  0.1439793   0.85160663 -0.23331139\n",
      "   0.04244246 -1.13725619 -1.01406007  0.93667879]\n",
      " [-0.58206479  0.83853902  0.64818319  0.67402841 -1.10105173 -0.7724992\n",
      "   2.27885763 -0.42891263  0.02384142 -0.13419136 -0.48713955  0.19463985\n",
      "   0.69537235  0.67098033  0.78310505 -0.82637665]\n",
      " [ 0.87014178 -0.9089023  -0.90134399 -0.10466836  0.20288342  1.20439997\n",
      "   0.36816171  0.02384142  1.26593626  0.19704062  0.79904632 -0.45132112\n",
      "  -0.06006064  0.51313663  0.51024143 -0.56617562]\n",
      " [-0.15509585 -0.42491581 -0.6356993   1.64971532 -0.66843591  0.15387448\n",
      "   0.1439793  -0.13419136  0.19704062 -0.8667404  -0.64702582 -1.19455615\n",
      "  -0.02212458 -0.08052749  0.72302291  0.11013479]\n",
      " [-0.32928508  0.35657066 -0.1284365   1.10005911 -0.72872346  0.1258913\n",
      "   0.85160663 -0.48713955  0.79904632 -0.64702582 -0.67888615 -0.3120205\n",
      "   0.72994416 -0.3441935   0.36283135  1.66742848]\n",
      " [ 0.10633762 -1.01995302  0.09109303  0.60468539  0.56659396  0.09611861\n",
      "  -0.23331139  0.19463985 -0.45132112 -1.19455615 -0.3120205  -0.09470897\n",
      "   0.16673624  0.1976147  -0.1284871   0.40254537]\n",
      " [ 0.84548587 -0.13309325  0.26780399 -2.00188186 -0.33632976  0.0350922\n",
      "   0.04244246  0.69537235 -0.06006064 -0.02212458  0.72994416  0.16673624\n",
      "   1.49138963 -0.73116549  0.47297871 -0.798879  ]\n",
      " [-0.36705227 -0.29153569  0.28385556  0.68727622 -0.20045357 -0.11911016\n",
      "  -1.13725619  0.67098033  0.51313663 -0.08052749 -0.3441935   0.1976147\n",
      "  -0.73116549 -0.638902   -0.21977303 -1.02684617]\n",
      " [ 0.25630999 -0.83717264  0.7634665  -0.53020799 -1.03743497 -0.10547743\n",
      "  -1.01406007  0.78310505  0.51024143  0.72302291  0.36283135 -0.1284871\n",
      "   0.47297871 -0.21977303 -0.44398196  0.27178692]\n",
      " [-0.07173844 -1.25946322  0.33144105 -1.15028665 -0.5850435   0.35607873\n",
      "   0.93667879 -0.82637665 -0.56617562  0.11013479  1.66742848  0.40254537\n",
      "  -0.798879   -1.02684617  0.27178692 -0.43435128]]\n"
     ]
    }
   ],
   "source": [
    "np.fill_diagonal(W,b)\n",
    "print (W)"
   ]
  },
  {
   "cell_type": "code",
   "execution_count": 6,
   "metadata": {
    "collapsed": true
   },
   "outputs": [],
   "source": [
    "np.save('16-nozero_W.npy', W)"
   ]
  },
  {
   "cell_type": "code",
   "execution_count": null,
   "metadata": {
    "collapsed": true
   },
   "outputs": [],
   "source": []
  }
 ],
 "metadata": {
  "kernelspec": {
   "display_name": "Python 3",
   "language": "python",
   "name": "python3"
  },
  "language_info": {
   "codemirror_mode": {
    "name": "ipython",
    "version": 3
   },
   "file_extension": ".py",
   "mimetype": "text/x-python",
   "name": "python",
   "nbconvert_exporter": "python",
   "pygments_lexer": "ipython3",
   "version": "3.5.2"
  }
 },
 "nbformat": 4,
 "nbformat_minor": 0
}
