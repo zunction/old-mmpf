{
 "cells": [
  {
   "cell_type": "code",
   "execution_count": 1,
   "metadata": {
    "collapsed": true
   },
   "outputs": [],
   "source": [
    "import numpy as np\n",
    "import matplotlib.pyplot as plt\n",
    "import timeit\n",
    "import time\n",
    "import os\n",
    "\n",
    "from pathlib import Path\n",
    "from datetime import datetime\n"
   ]
  },
  {
   "cell_type": "code",
   "execution_count": 2,
   "metadata": {
    "collapsed": true
   },
   "outputs": [],
   "source": [
    "def getseed(n = 16, randstate = 123):\n",
    "    \"\"\"\n",
    "    Generates the seed for the Gibbs sampler.\n",
    "    Inputs:\n",
    "    - n: (int) number of neurons in the network\n",
    "    \"\"\"\n",
    "    prng = np.random.RandomState(randstate)\n",
    "    return np.random.randint(2, size = n)\n",
    "\n",
    "def getW(n = 16, randstate = 123):\n",
    "    \"\"\"\n",
    "    Generates the matrix to learn using MPF.\n",
    "    Inputs:\n",
    "    - n: (int) number of neurons in the network\n",
    "    - index: if None, will be labeled by YearMonthDay-HourMinute\n",
    "    \"\"\"\n",
    "    prng = np.random.RandomState(randstate)\n",
    "    U = prng.normal(0, 1, (n, n))\n",
    "    W = 0.5 * (U + U.T)\n",
    "    np.fill_diagonal(W, 0)\n",
    "\n",
    "    filename = str(n) + '-' + 'W'\n",
    "    myfile = Path(filename + '.npy')\n",
    "\n",
    "    if myfile.is_file():\n",
    "        print (filename + '.npy' + ' exists')\n",
    "    else:\n",
    "        np.save(filename, W)\n",
    "        print ('W matrix saved as ' + filename + '.npy')  \n",
    "    return W\n",
    "\n",
    "\n",
    "def getb(n = 16, randstate = 123):\n",
    "    \"\"\"\n",
    "    Generates the bias to learn using MPF.\n",
    "    Inputs:\n",
    "    - n: (int) number of neurons in the network\n",
    "    - index: if None, will be labeled by YearMonthDay-HourMinute\n",
    "    \"\"\"\n",
    "    prng = np.random.RandomState(randstate)\n",
    "    b = prng.normal(0, 1, (n, ))\n",
    "\n",
    "\n",
    "    filename = str(n) + '-' + 'b'\n",
    "    myfile = Path(filename + '.npy')\n",
    "\n",
    "    if myfile.is_file():\n",
    "        print (filename + '.npy' + ' exists.')\n",
    "    else:\n",
    "        np.save(filename, b)\n",
    "        print ('b bias saved as ' + filename + '.npy')\n",
    "    return b\n"
   ]
  },
  {
   "cell_type": "code",
   "execution_count": 3,
   "metadata": {
    "collapsed": true
   },
   "outputs": [],
   "source": [
    "def sigmoid(x):\n",
    "    \"\"\"\n",
    "    Takes in a vector x and returns its sigmoid activation.\n",
    "    Input:\n",
    "    - x: a numpy array\n",
    "    \"\"\"\n",
    "    return 1/(1 + np.exp(-x))\n",
    "\n",
    "\n",
    "def one_state_update(x, W, b, s):\n",
    "    \"\"\"\n",
    "    Does a single update of the sth neuron of the network.\n",
    "    Inputs:\n",
    "    - x: current state of the network to produce a new state\n",
    "    - W: numpy array of weights\n",
    "    - b: numpy array of biases\n",
    "    \"\"\"\n",
    "    p = sigmoid(np.dot(W[s, :], x) + b[s]) \n",
    "    new_x = np.zeros(x.shape) + x\n",
    "    new_x[s] = np.random.binomial(1, p, 1)\n",
    "    return new_x\n",
    "\n",
    "\n",
    "def burn_in(x, W, b, n = 10000):\n",
    "    \"\"\"\n",
    "    Performs the burning in before doing the Gibbs sampling.\n",
    "    \"\"\"\n",
    "    v = x.shape[0]\n",
    "    for i in range(n * v):\n",
    "        s = np.random.randint(0, v)\n",
    "        x = one_state_update(x, W, b, s)\n",
    "    return x\n",
    "\n",
    "\n",
    "def n_updates(x, W, b, n = 100):\n",
    "    \"\"\"\n",
    "    Performs n times of the one_state_update.\n",
    "    Inputs:\n",
    "    - x: current state of the network to produce a new state\n",
    "    - W: numpy array of weights\n",
    "    - b: numpy array of biases\n",
    "    - n: (int) number of updates to be made\n",
    "    \"\"\"\n",
    "    v = x.shape[0]\n",
    "    for i in range(n):\n",
    "        s = np.random.randint(0, v)\n",
    "        x = one_state_update(x, W, b, s)\n",
    "    return x\n",
    "\n",
    "\n",
    "def mixing(x, W, b, n = 50000, m = 100):\n",
    "    \"\"\"\n",
    "    Does mixing for m times before obtaining a single sample.\n",
    "    Inputs:\n",
    "    - x: current state of the network to produce a new state\n",
    "    - W: numpy array of weights\n",
    "    - b: numpy array of biases\n",
    "    - n: (int) number of samples to be generated\n",
    "    - m: (int) number of updates before a sample is saved\n",
    "    \"\"\"\n",
    "    samples = np.zeros((n, x.shape[0]))\n",
    "\n",
    "    for i in range(n):\n",
    "        x = n_updates(x, W, b, m)\n",
    "        samples[i, :] = x\n",
    "    return samples\n",
    "\n",
    "\n",
    "def sampling(units = 16, n = 50000, m = 100, randstate = 123):\n",
    "    \"\"\"\n",
    "    Generate n samples from seed x.\n",
    "    Input:\n",
    "    - units: (int) number of units in the Boltzmann machine\n",
    "    - x: current state of the network to produce a new state\n",
    "    - W: numpy array of weights\n",
    "    - b: numpy array of biases\n",
    "    - n: (int) number of samples to be generated\n",
    "    - m: (int) number of updates before a sample is saved\n",
    "    - savesamples: (bool)\n",
    "    \"\"\"\n",
    "    K = n // 1000\n",
    "    filename = str(units) + '-' + str(K) + 'K'\n",
    "    myfile = Path(filename + '.npy')\n",
    "\n",
    "    if myfile.is_file():\n",
    "        print (filename + '.npy' + ' exists.')\n",
    "    else:\n",
    "        tic = timeit.default_timer()\n",
    "\n",
    "        print ('Generating %dK samples with %d units...' % (K, units))\n",
    "\n",
    "        x = getseed(n = units, randstate = randstate)\n",
    "        W = getW(n = units, randstate = randstate)\n",
    "        b = getb(n = units, randstate = randstate)\n",
    "        \n",
    "        print (51 * '=')\n",
    "        print (19 * '#' + 'Gibbs Sampler' + 19 * '#')\n",
    "        print (str(datetime.now()))\n",
    "        print ('Units: {0}'.format(units))\n",
    "\n",
    "        \n",
    "        print ('Burning in...')\n",
    "        burnt = burn_in(x, W, b)\n",
    "        print ('Burnt:', burnt)\n",
    "        print ('Mixing...')\n",
    "        samples = mixing(burnt, W, b, n, m)\n",
    "        \n",
    "        np.save(filename, samples)\n",
    "        print ('samples saved as ' + filename + '.npy')\n",
    "        \n",
    "        toc = timeit.default_timer()\n",
    "        print ('Time taken to create %d samples is %.2f minutes' % (n, (toc - tic)/60.))\n",
    "        print (51 * '=')\n",
    "\n",
    "        return samples\n"
   ]
  },
  {
   "cell_type": "markdown",
   "metadata": {},
   "source": [
    "Test run the code"
   ]
  },
  {
   "cell_type": "code",
   "execution_count": 4,
   "metadata": {
    "collapsed": false
   },
   "outputs": [
    {
     "name": "stdout",
     "output_type": "stream",
     "text": [
      "Generating 50K samples with 16 units...\n",
      "W matrix saved as 16-W.npy\n",
      "b bias saved as 16-b.npy\n",
      "===================================================\n",
      "###################Gibbs Sampler###################\n",
      "2017-04-07 14:30:40.170203\n",
      "Units: 16\n",
      "Burning in...\n",
      "Burnt: [ 1.  1.  1.  1.  0.  1.  0.  0.  1.  0.  1.  0.  1.  0.  1.  0.]\n",
      "Mixing...\n",
      "samples saved as 16-50K.npy\n",
      "Time taken to create 50000 samples is 0.83 minutes\n",
      "===================================================\n"
     ]
    },
    {
     "data": {
      "text/plain": [
       "array([[ 1.,  1.,  1., ...,  0.,  1.,  0.],\n",
       "       [ 1.,  1.,  1., ...,  1.,  0.,  0.],\n",
       "       [ 1.,  1.,  1., ...,  0.,  1.,  0.],\n",
       "       ..., \n",
       "       [ 1.,  1.,  1., ...,  0.,  0.,  0.],\n",
       "       [ 1.,  1.,  1., ...,  0.,  1.,  0.],\n",
       "       [ 1.,  1.,  1., ...,  0.,  1.,  1.]])"
      ]
     },
     "execution_count": 4,
     "metadata": {},
     "output_type": "execute_result"
    }
   ],
   "source": [
    "sampling(units = 16, n = 50000, m = 100, randstate = 123)"
   ]
  },
  {
   "cell_type": "code",
   "execution_count": null,
   "metadata": {
    "collapsed": true
   },
   "outputs": [],
   "source": []
  },
  {
   "cell_type": "code",
   "execution_count": null,
   "metadata": {
    "collapsed": true
   },
   "outputs": [],
   "source": []
  },
  {
   "cell_type": "code",
   "execution_count": null,
   "metadata": {
    "collapsed": true
   },
   "outputs": [],
   "source": []
  }
 ],
 "metadata": {
  "kernelspec": {
   "display_name": "Python 3",
   "language": "python",
   "name": "python3"
  },
  "language_info": {
   "codemirror_mode": {
    "name": "ipython",
    "version": 3
   },
   "file_extension": ".py",
   "mimetype": "text/x-python",
   "name": "python",
   "nbconvert_exporter": "python",
   "pygments_lexer": "ipython3",
   "version": "3.5.2"
  }
 },
 "nbformat": 4,
 "nbformat_minor": 0
}
